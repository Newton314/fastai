{
 "cells": [
  {
   "cell_type": "code",
   "execution_count": 1,
   "metadata": {},
   "outputs": [],
   "source": [
    "import pandas as pd\n",
    "\n",
    "from fastai.structured import *\n",
    "from fastai.column_data import *\n",
    "np.set_printoptions(threshold=50, edgeitems=20)"
   ]
  },
  {
   "cell_type": "code",
   "execution_count": 2,
   "metadata": {},
   "outputs": [
    {
     "data": {
      "text/html": [
       "<div>\n",
       "<style scoped>\n",
       "    .dataframe tbody tr th:only-of-type {\n",
       "        vertical-align: middle;\n",
       "    }\n",
       "\n",
       "    .dataframe tbody tr th {\n",
       "        vertical-align: top;\n",
       "    }\n",
       "\n",
       "    .dataframe thead th {\n",
       "        text-align: right;\n",
       "    }\n",
       "</style>\n",
       "<table border=\"1\" class=\"dataframe\">\n",
       "  <thead>\n",
       "    <tr style=\"text-align: right;\">\n",
       "      <th></th>\n",
       "      <th>position</th>\n",
       "      <th>season</th>\n",
       "      <th>fpts</th>\n",
       "      <th>firstname</th>\n",
       "      <th>college</th>\n",
       "      <th>seasonweek</th>\n",
       "      <th>playerID</th>\n",
       "      <th>height</th>\n",
       "      <th>experience</th>\n",
       "      <th>weight</th>\n",
       "      <th>...</th>\n",
       "      <th>tar</th>\n",
       "      <th>target_share</th>\n",
       "      <th>tkl</th>\n",
       "      <th>yac</th>\n",
       "      <th>tm_airyards</th>\n",
       "      <th>tot</th>\n",
       "      <th>tot_score</th>\n",
       "      <th>trcv</th>\n",
       "      <th>wopr</th>\n",
       "      <th>yds</th>\n",
       "    </tr>\n",
       "  </thead>\n",
       "  <tbody>\n",
       "    <tr>\n",
       "      <th>0</th>\n",
       "      <td>QB</td>\n",
       "      <td>2012</td>\n",
       "      <td>12.52</td>\n",
       "      <td>Eli</td>\n",
       "      <td>Mississippi</td>\n",
       "      <td>1</td>\n",
       "      <td>00-0022803</td>\n",
       "      <td>195</td>\n",
       "      <td>10</td>\n",
       "      <td>99</td>\n",
       "      <td>...</td>\n",
       "      <td>0.0</td>\n",
       "      <td>0.0</td>\n",
       "      <td>0.0</td>\n",
       "      <td>0.0</td>\n",
       "      <td>0.0</td>\n",
       "      <td>0.0</td>\n",
       "      <td>0.0</td>\n",
       "      <td>0.0</td>\n",
       "      <td>0.0</td>\n",
       "      <td>0.0</td>\n",
       "    </tr>\n",
       "    <tr>\n",
       "      <th>1</th>\n",
       "      <td>TE</td>\n",
       "      <td>2012</td>\n",
       "      <td>10.00</td>\n",
       "      <td>Martellus</td>\n",
       "      <td>Texas A&amp;M</td>\n",
       "      <td>1</td>\n",
       "      <td>00-0026201</td>\n",
       "      <td>198</td>\n",
       "      <td>6</td>\n",
       "      <td>124</td>\n",
       "      <td>...</td>\n",
       "      <td>0.0</td>\n",
       "      <td>0.0</td>\n",
       "      <td>0.0</td>\n",
       "      <td>0.0</td>\n",
       "      <td>0.0</td>\n",
       "      <td>0.0</td>\n",
       "      <td>0.0</td>\n",
       "      <td>0.0</td>\n",
       "      <td>0.0</td>\n",
       "      <td>0.0</td>\n",
       "    </tr>\n",
       "    <tr>\n",
       "      <th>2</th>\n",
       "      <td>WR</td>\n",
       "      <td>2012</td>\n",
       "      <td>5.80</td>\n",
       "      <td>Victor</td>\n",
       "      <td>Massachusetts</td>\n",
       "      <td>1</td>\n",
       "      <td>00-0027265</td>\n",
       "      <td>182</td>\n",
       "      <td>3</td>\n",
       "      <td>91</td>\n",
       "      <td>...</td>\n",
       "      <td>0.0</td>\n",
       "      <td>0.0</td>\n",
       "      <td>0.0</td>\n",
       "      <td>0.0</td>\n",
       "      <td>0.0</td>\n",
       "      <td>0.0</td>\n",
       "      <td>0.0</td>\n",
       "      <td>0.0</td>\n",
       "      <td>0.0</td>\n",
       "      <td>0.0</td>\n",
       "    </tr>\n",
       "    <tr>\n",
       "      <th>3</th>\n",
       "      <td>DE</td>\n",
       "      <td>2012</td>\n",
       "      <td>0.00</td>\n",
       "      <td>Jason</td>\n",
       "      <td>South Florida</td>\n",
       "      <td>1</td>\n",
       "      <td>00-0027867</td>\n",
       "      <td>195</td>\n",
       "      <td>4</td>\n",
       "      <td>124</td>\n",
       "      <td>...</td>\n",
       "      <td>0.0</td>\n",
       "      <td>0.0</td>\n",
       "      <td>0.0</td>\n",
       "      <td>0.0</td>\n",
       "      <td>0.0</td>\n",
       "      <td>0.0</td>\n",
       "      <td>0.0</td>\n",
       "      <td>0.0</td>\n",
       "      <td>0.0</td>\n",
       "      <td>0.0</td>\n",
       "    </tr>\n",
       "    <tr>\n",
       "      <th>4</th>\n",
       "      <td>DT</td>\n",
       "      <td>2012</td>\n",
       "      <td>1.00</td>\n",
       "      <td>Linval</td>\n",
       "      <td>East Carolina</td>\n",
       "      <td>1</td>\n",
       "      <td>00-0027885</td>\n",
       "      <td>193</td>\n",
       "      <td>4</td>\n",
       "      <td>149</td>\n",
       "      <td>...</td>\n",
       "      <td>0.0</td>\n",
       "      <td>0.0</td>\n",
       "      <td>0.0</td>\n",
       "      <td>0.0</td>\n",
       "      <td>0.0</td>\n",
       "      <td>0.0</td>\n",
       "      <td>0.0</td>\n",
       "      <td>0.0</td>\n",
       "      <td>0.0</td>\n",
       "      <td>0.0</td>\n",
       "    </tr>\n",
       "  </tbody>\n",
       "</table>\n",
       "<p>5 rows × 89 columns</p>\n",
       "</div>"
      ],
      "text/plain": [
       "  position  season   fpts  firstname        college  seasonweek    playerID  \\\n",
       "0       QB    2012  12.52        Eli    Mississippi           1  00-0022803   \n",
       "1       TE    2012  10.00  Martellus      Texas A&M           1  00-0026201   \n",
       "2       WR    2012   5.80     Victor  Massachusetts           1  00-0027265   \n",
       "3       DE    2012   0.00      Jason  South Florida           1  00-0027867   \n",
       "4       DT    2012   1.00     Linval  East Carolina           1  00-0027885   \n",
       "\n",
       "   height  experience  weight ...   tar  target_share  tkl  yac  tm_airyards  \\\n",
       "0     195          10      99 ...   0.0           0.0  0.0  0.0          0.0   \n",
       "1     198           6     124 ...   0.0           0.0  0.0  0.0          0.0   \n",
       "2     182           3      91 ...   0.0           0.0  0.0  0.0          0.0   \n",
       "3     195           4     124 ...   0.0           0.0  0.0  0.0          0.0   \n",
       "4     193           4     149 ...   0.0           0.0  0.0  0.0          0.0   \n",
       "\n",
       "   tot  tot_score  trcv wopr  yds  \n",
       "0  0.0        0.0   0.0  0.0  0.0  \n",
       "1  0.0        0.0   0.0  0.0  0.0  \n",
       "2  0.0        0.0   0.0  0.0  0.0  \n",
       "3  0.0        0.0   0.0  0.0  0.0  \n",
       "4  0.0        0.0   0.0  0.0  0.0  \n",
       "\n",
       "[5 rows x 89 columns]"
      ]
     },
     "execution_count": 2,
     "metadata": {},
     "output_type": "execute_result"
    }
   ],
   "source": [
    "PATH = 'data/FantasyAI'\n",
    "data = pd.read_feather(f'{PATH}/processed_data.feather')\n",
    "data.head()"
   ]
  },
  {
   "cell_type": "markdown",
   "metadata": {},
   "source": [
    "# Final Processing"
   ]
  },
  {
   "cell_type": "code",
   "execution_count": 4,
   "metadata": {},
   "outputs": [
    {
     "data": {
      "text/plain": [
       "['position',\n",
       " 'experience',\n",
       " 'number',\n",
       " 'name',\n",
       " 'seasonweek',\n",
       " 'lastname',\n",
       " 'day',\n",
       " 'full_name',\n",
       " 'season',\n",
       " 'team',\n",
       " 'college',\n",
       " 'weekday',\n",
       " 'height',\n",
       " 'weight',\n",
       " 'home',\n",
       " 'age',\n",
       " 'opponent',\n",
       " 'playerID',\n",
       " 'away',\n",
       " 'year',\n",
       " 'firstname',\n",
       " 'month']"
      ]
     },
     "execution_count": 4,
     "metadata": {},
     "output_type": "execute_result"
    }
   ],
   "source": [
    "cont_vars = ['air_yards', 'ast', 'aypt', 'ffum', 'k_xpb', 'k_xpmade',\n",
    "            'k_xpmissed', 'k_xptot', 'int', 'k_fga', 'k_fgm', 'k_fgyds', \n",
    "            'k_xpa', 'k_totpfg', 'kret_avg', 'kret_lng', 'kret_lngtd', 'kret_ret', 'kret_tds', 'lost', 'ms_air_yards', 'p_avg', 'p_i20',\n",
    "            'p_lng', 'pass_twopta', 'pass_twoptm', 'pass_cmp', 'pass_ints', 'pass_tds',\n",
    "            'pass_att', 'p_yds', 'p_pts', 'pass_yds', 'pret_avg', 'pret_lng', 'pret_lngtd',\n",
    "            'pret_ret', 'pret_tds', 'pts_allwd', 'racr', 'rcv', 'rcv_lng', 'rcv_lngtd',\n",
    "            'rcv_rec', 'rcv_tds', 'rcv_twopta', 'rcv_twoptm', 'rcv_yds', 'rush_att',\n",
    "            'rush_lng', 'rush_lngtd', 'rush_tds', 'rush_twopta', 'rush_twoptm',\n",
    "            'rush_yds', 'sk', 'tar', 'target_share', 'tkl', 'yac', 'tm_airyards', \n",
    "            'tot', 'tot_score', 'trcv', 'wopr', 'yac', 'yds']\n",
    "cat_vars = set(data.columns) - set(cont_vars)\n",
    "cat_vars.discard('fpts')\n",
    "cat_vars = list(cat_vars)\n",
    "cat_vars"
   ]
  },
  {
   "cell_type": "code",
   "execution_count": 5,
   "metadata": {},
   "outputs": [],
   "source": [
    "for v in cat_vars: data[v] = data[v].astype('category').cat.as_ordered()"
   ]
  },
  {
   "cell_type": "code",
   "execution_count": 6,
   "metadata": {},
   "outputs": [],
   "source": [
    "delete = ['firstname', 'lastname', 'playerID', 'name']\n",
    "for d in delete:\n",
    "    del data[d]\n",
    "    cat_vars.remove(d)"
   ]
  },
  {
   "cell_type": "code",
   "execution_count": 7,
   "metadata": {},
   "outputs": [],
   "source": [
    "index = 1\n",
    "players = list(data.full_name)\n",
    "pID = {}\n",
    "for p in players:\n",
    "    i = pID.setdefault(p,index)\n",
    "    if i == index:\n",
    "        index += 1\n",
    "Conversion = [pID[x] for x in players]\n",
    "data.full_name = Conversion\n",
    "data.full_name = data.full_name.astype('category')"
   ]
  },
  {
   "cell_type": "code",
   "execution_count": 8,
   "metadata": {},
   "outputs": [
    {
     "data": {
      "text/plain": [
       "2576"
      ]
     },
     "execution_count": 8,
     "metadata": {},
     "output_type": "execute_result"
    }
   ],
   "source": [
    "'''split in training and test data'''\n",
    "test_data = data[data.season == 2017]\n",
    "test_data = test_data[test_data.seasonweek > 14].copy()\n",
    "len(test_data)"
   ]
  },
  {
   "cell_type": "code",
   "execution_count": 9,
   "metadata": {},
   "outputs": [
    {
     "data": {
      "text/plain": [
       "56132"
      ]
     },
     "execution_count": 9,
     "metadata": {},
     "output_type": "execute_result"
    }
   ],
   "source": [
    "max = test_data.index[0]\n",
    "training_data = data.iloc[0:max,:]\n",
    "len(training_data)"
   ]
  },
  {
   "cell_type": "code",
   "execution_count": 10,
   "metadata": {},
   "outputs": [],
   "source": [
    "df, y, nas, mapper = proc_df(training_data, 'fpts', do_scale=True)"
   ]
  },
  {
   "cell_type": "code",
   "execution_count": 11,
   "metadata": {},
   "outputs": [],
   "source": [
    "df_test, _, nas, mapper = proc_df(test_data, 'fpts', do_scale=True,\n",
    "                                  mapper=mapper, na_dict=nas)"
   ]
  },
  {
   "cell_type": "code",
   "execution_count": 12,
   "metadata": {},
   "outputs": [
    {
     "data": {
      "text/html": [
       "<div>\n",
       "<style scoped>\n",
       "    .dataframe tbody tr th:only-of-type {\n",
       "        vertical-align: middle;\n",
       "    }\n",
       "\n",
       "    .dataframe tbody tr th {\n",
       "        vertical-align: top;\n",
       "    }\n",
       "\n",
       "    .dataframe thead th {\n",
       "        text-align: right;\n",
       "    }\n",
       "</style>\n",
       "<table border=\"1\" class=\"dataframe\">\n",
       "  <thead>\n",
       "    <tr style=\"text-align: right;\">\n",
       "      <th></th>\n",
       "      <th>position</th>\n",
       "      <th>season</th>\n",
       "      <th>college</th>\n",
       "      <th>seasonweek</th>\n",
       "      <th>height</th>\n",
       "      <th>experience</th>\n",
       "      <th>weight</th>\n",
       "      <th>full_name</th>\n",
       "      <th>year</th>\n",
       "      <th>day</th>\n",
       "      <th>...</th>\n",
       "      <th>tar</th>\n",
       "      <th>target_share</th>\n",
       "      <th>tkl</th>\n",
       "      <th>yac</th>\n",
       "      <th>tm_airyards</th>\n",
       "      <th>tot</th>\n",
       "      <th>tot_score</th>\n",
       "      <th>trcv</th>\n",
       "      <th>wopr</th>\n",
       "      <th>yds</th>\n",
       "    </tr>\n",
       "  </thead>\n",
       "  <tbody>\n",
       "    <tr>\n",
       "      <th>0</th>\n",
       "      <td>18</td>\n",
       "      <td>1</td>\n",
       "      <td>131</td>\n",
       "      <td>1</td>\n",
       "      <td>12</td>\n",
       "      <td>14</td>\n",
       "      <td>28</td>\n",
       "      <td>1</td>\n",
       "      <td>1</td>\n",
       "      <td>5</td>\n",
       "      <td>...</td>\n",
       "      <td>-0.439129</td>\n",
       "      <td>-0.442168</td>\n",
       "      <td>-0.762284</td>\n",
       "      <td>-0.393913</td>\n",
       "      <td>-0.516964</td>\n",
       "      <td>-0.263906</td>\n",
       "      <td>-2.147822</td>\n",
       "      <td>-0.289801</td>\n",
       "      <td>-0.430113</td>\n",
       "      <td>-0.062404</td>\n",
       "    </tr>\n",
       "    <tr>\n",
       "      <th>1</th>\n",
       "      <td>22</td>\n",
       "      <td>1</td>\n",
       "      <td>224</td>\n",
       "      <td>1</td>\n",
       "      <td>13</td>\n",
       "      <td>10</td>\n",
       "      <td>53</td>\n",
       "      <td>2</td>\n",
       "      <td>1</td>\n",
       "      <td>5</td>\n",
       "      <td>...</td>\n",
       "      <td>-0.439129</td>\n",
       "      <td>-0.442168</td>\n",
       "      <td>-0.762284</td>\n",
       "      <td>-0.393913</td>\n",
       "      <td>-0.516964</td>\n",
       "      <td>-0.263906</td>\n",
       "      <td>-2.147822</td>\n",
       "      <td>-0.289801</td>\n",
       "      <td>-0.430113</td>\n",
       "      <td>-0.062404</td>\n",
       "    </tr>\n",
       "    <tr>\n",
       "      <th>2</th>\n",
       "      <td>23</td>\n",
       "      <td>1</td>\n",
       "      <td>120</td>\n",
       "      <td>1</td>\n",
       "      <td>7</td>\n",
       "      <td>7</td>\n",
       "      <td>20</td>\n",
       "      <td>3</td>\n",
       "      <td>1</td>\n",
       "      <td>5</td>\n",
       "      <td>...</td>\n",
       "      <td>-0.439129</td>\n",
       "      <td>-0.442168</td>\n",
       "      <td>-0.762284</td>\n",
       "      <td>-0.393913</td>\n",
       "      <td>-0.516964</td>\n",
       "      <td>-0.263906</td>\n",
       "      <td>-2.147822</td>\n",
       "      <td>-0.289801</td>\n",
       "      <td>-0.430113</td>\n",
       "      <td>-0.062404</td>\n",
       "    </tr>\n",
       "    <tr>\n",
       "      <th>3</th>\n",
       "      <td>4</td>\n",
       "      <td>1</td>\n",
       "      <td>204</td>\n",
       "      <td>1</td>\n",
       "      <td>12</td>\n",
       "      <td>8</td>\n",
       "      <td>53</td>\n",
       "      <td>4</td>\n",
       "      <td>1</td>\n",
       "      <td>5</td>\n",
       "      <td>...</td>\n",
       "      <td>-0.439129</td>\n",
       "      <td>-0.442168</td>\n",
       "      <td>-0.762284</td>\n",
       "      <td>-0.393913</td>\n",
       "      <td>-0.516964</td>\n",
       "      <td>-0.263906</td>\n",
       "      <td>-2.147822</td>\n",
       "      <td>-0.289801</td>\n",
       "      <td>-0.430113</td>\n",
       "      <td>-0.062404</td>\n",
       "    </tr>\n",
       "    <tr>\n",
       "      <th>4</th>\n",
       "      <td>5</td>\n",
       "      <td>1</td>\n",
       "      <td>61</td>\n",
       "      <td>1</td>\n",
       "      <td>11</td>\n",
       "      <td>8</td>\n",
       "      <td>78</td>\n",
       "      <td>5</td>\n",
       "      <td>1</td>\n",
       "      <td>5</td>\n",
       "      <td>...</td>\n",
       "      <td>-0.439129</td>\n",
       "      <td>-0.442168</td>\n",
       "      <td>-0.762284</td>\n",
       "      <td>-0.393913</td>\n",
       "      <td>-0.516964</td>\n",
       "      <td>-0.263906</td>\n",
       "      <td>-2.147822</td>\n",
       "      <td>-0.289801</td>\n",
       "      <td>-0.430113</td>\n",
       "      <td>-0.062404</td>\n",
       "    </tr>\n",
       "  </tbody>\n",
       "</table>\n",
       "<p>5 rows × 84 columns</p>\n",
       "</div>"
      ],
      "text/plain": [
       "   position  season  college  seasonweek  height  experience  weight  \\\n",
       "0        18       1      131           1      12          14      28   \n",
       "1        22       1      224           1      13          10      53   \n",
       "2        23       1      120           1       7           7      20   \n",
       "3         4       1      204           1      12           8      53   \n",
       "4         5       1       61           1      11           8      78   \n",
       "\n",
       "   full_name  year  day    ...          tar  target_share       tkl       yac  \\\n",
       "0          1     1    5    ...    -0.439129     -0.442168 -0.762284 -0.393913   \n",
       "1          2     1    5    ...    -0.439129     -0.442168 -0.762284 -0.393913   \n",
       "2          3     1    5    ...    -0.439129     -0.442168 -0.762284 -0.393913   \n",
       "3          4     1    5    ...    -0.439129     -0.442168 -0.762284 -0.393913   \n",
       "4          5     1    5    ...    -0.439129     -0.442168 -0.762284 -0.393913   \n",
       "\n",
       "   tm_airyards       tot  tot_score      trcv      wopr       yds  \n",
       "0    -0.516964 -0.263906  -2.147822 -0.289801 -0.430113 -0.062404  \n",
       "1    -0.516964 -0.263906  -2.147822 -0.289801 -0.430113 -0.062404  \n",
       "2    -0.516964 -0.263906  -2.147822 -0.289801 -0.430113 -0.062404  \n",
       "3    -0.516964 -0.263906  -2.147822 -0.289801 -0.430113 -0.062404  \n",
       "4    -0.516964 -0.263906  -2.147822 -0.289801 -0.430113 -0.062404  \n",
       "\n",
       "[5 rows x 84 columns]"
      ]
     },
     "execution_count": 12,
     "metadata": {},
     "output_type": "execute_result"
    }
   ],
   "source": [
    "df.head()"
   ]
  },
  {
   "cell_type": "code",
   "execution_count": 13,
   "metadata": {},
   "outputs": [
    {
     "data": {
      "text/plain": [
       "array([51361, 51362, 51363, 51364, 51365, 51366, 51367, 51368, 51369, 51370, 51371, 51372, 51373, 51374,\n",
       "       51375, 51376, 51377, 51378, 51379, 51380, ..., 56112, 56113, 56114, 56115, 56116, 56117, 56118, 56119,\n",
       "       56120, 56121, 56122, 56123, 56124, 56125, 56126, 56127, 56128, 56129, 56130, 56131], dtype=int64)"
      ]
     },
     "execution_count": 13,
     "metadata": {},
     "output_type": "execute_result"
    }
   ],
   "source": [
    "validation = data[data.season == 2017]\n",
    "validation = validation[validation.seasonweek > 8]\n",
    "val_idx = np.array(validation[validation.seasonweek <= 14].index)\n",
    "val_idx"
   ]
  },
  {
   "cell_type": "markdown",
   "metadata": {},
   "source": [
    "# DL"
   ]
  },
  {
   "cell_type": "code",
   "execution_count": 14,
   "metadata": {},
   "outputs": [],
   "source": [
    "md = ColumnarModelData.from_data_frame(PATH, val_idx, df, y, cat_flds=cat_vars, bs=128,\n",
    "                                       test_df=df_test)"
   ]
  },
  {
   "cell_type": "code",
   "execution_count": 15,
   "metadata": {},
   "outputs": [],
   "source": [
    "cat_sz = [(c, len(data[c].cat.categories)+1) for c in cat_vars]"
   ]
  },
  {
   "cell_type": "code",
   "execution_count": 16,
   "metadata": {},
   "outputs": [
    {
     "data": {
      "text/plain": [
       "[('position', 24),\n",
       " ('experience', 28),\n",
       " ('number', 100),\n",
       " ('seasonweek', 18),\n",
       " ('day', 32),\n",
       " ('full_name', 1891),\n",
       " ('season', 7),\n",
       " ('team', 36),\n",
       " ('college', 270),\n",
       " ('weekday', 6),\n",
       " ('height', 17),\n",
       " ('weight', 89),\n",
       " ('home', 3),\n",
       " ('age', 26),\n",
       " ('opponent', 36),\n",
       " ('away', 3),\n",
       " ('year', 7),\n",
       " ('month', 6)]"
      ]
     },
     "execution_count": 16,
     "metadata": {},
     "output_type": "execute_result"
    }
   ],
   "source": [
    "cat_sz"
   ]
  },
  {
   "cell_type": "code",
   "execution_count": 17,
   "metadata": {},
   "outputs": [],
   "source": [
    "emb_szs = [(c, min(50, (c+1)//2)) for _,c in cat_sz]"
   ]
  },
  {
   "cell_type": "code",
   "execution_count": 18,
   "metadata": {},
   "outputs": [
    {
     "data": {
      "text/plain": [
       "[(24, 12),\n",
       " (28, 14),\n",
       " (100, 50),\n",
       " (18, 9),\n",
       " (32, 16),\n",
       " (1891, 50),\n",
       " (7, 4),\n",
       " (36, 18),\n",
       " (270, 50),\n",
       " (6, 3),\n",
       " (17, 9),\n",
       " (89, 45),\n",
       " (3, 2),\n",
       " (26, 13),\n",
       " (36, 18),\n",
       " (3, 2),\n",
       " (7, 4),\n",
       " (6, 3)]"
      ]
     },
     "execution_count": 18,
     "metadata": {},
     "output_type": "execute_result"
    }
   ],
   "source": [
    "emb_szs"
   ]
  },
  {
   "cell_type": "code",
   "execution_count": 23,
   "metadata": {},
   "outputs": [
    {
     "name": "stdout",
     "output_type": "stream",
     "text": [
      "(0, 100)\n"
     ]
    }
   ],
   "source": [
    "#def inv_y(a): return np.exp(a)\n",
    "\n",
    "def exp_rmse(y_pred, targ):\n",
    "    pct_var = (targ - y_pred)\n",
    "    return math.sqrt((pct_var**2).mean())\n",
    "\n",
    "max_y = np.max(y)\n",
    "y_range = (0, 100)\n",
    "print(y_range)"
   ]
  },
  {
   "cell_type": "code",
   "execution_count": 24,
   "metadata": {},
   "outputs": [],
   "source": [
    "m = md.get_learner(emb_szs, len(df.columns)-len(cat_vars),\n",
    "                   0.04, 1, [1000,500], [0.001,0.01], y_range=y_range)\n",
    "lr = 1e-3"
   ]
  },
  {
   "cell_type": "code",
   "execution_count": 25,
   "metadata": {},
   "outputs": [
    {
     "data": {
      "application/vnd.jupyter.widget-view+json": {
       "model_id": "6062f9eb85c64c0589c0df5a9dca03cc",
       "version_major": 2,
       "version_minor": 0
      },
      "text/html": [
       "<p>Failed to display Jupyter Widget of type <code>HBox</code>.</p>\n",
       "<p>\n",
       "  If you're reading this message in the Jupyter Notebook or JupyterLab Notebook, it may mean\n",
       "  that the widgets JavaScript is still loading. If this message persists, it\n",
       "  likely means that the widgets JavaScript library is either not installed or\n",
       "  not enabled. See the <a href=\"https://ipywidgets.readthedocs.io/en/stable/user_install.html\">Jupyter\n",
       "  Widgets Documentation</a> for setup instructions.\n",
       "</p>\n",
       "<p>\n",
       "  If you're reading this message in another frontend (for example, a static\n",
       "  rendering on GitHub or <a href=\"https://nbviewer.jupyter.org/\">NBViewer</a>),\n",
       "  it may mean that your frontend doesn't currently support widgets.\n",
       "</p>\n"
      ],
      "text/plain": [
       "HBox(children=(IntProgress(value=0, description='Epoch', max=1), HTML(value='')))"
      ]
     },
     "metadata": {},
     "output_type": "display_data"
    },
    {
     "name": "stdout",
     "output_type": "stream",
     "text": [
      "epoch      trn_loss   val_loss                                                                              \n",
      "    0      42.887535  36.269299 \n",
      "\n"
     ]
    }
   ],
   "source": [
    "m.lr_find()"
   ]
  },
  {
   "cell_type": "code",
   "execution_count": 26,
   "metadata": {},
   "outputs": [
    {
     "data": {
      "image/png": "[encoded data removed]",
      "text/plain": [
       "<Figure size 432x288 with 1 Axes>"
      ]
     },
     "metadata": {},
     "output_type": "display_data"
    }
   ],
   "source": [
    "m.sched.plot(100)"
   ]
  },
  {
   "cell_type": "code",
   "execution_count": 27,
   "metadata": {},
   "outputs": [
    {
     "data": {
      "application/vnd.jupyter.widget-view+json": {
       "model_id": "9ca70146990c440abee438fb080bac64",
       "version_major": 2,
       "version_minor": 0
      },
      "text/html": [
       "<p>Failed to display Jupyter Widget of type <code>HBox</code>.</p>\n",
       "<p>\n",
       "  If you're reading this message in the Jupyter Notebook or JupyterLab Notebook, it may mean\n",
       "  that the widgets JavaScript is still loading. If this message persists, it\n",
       "  likely means that the widgets JavaScript library is either not installed or\n",
       "  not enabled. See the <a href=\"https://ipywidgets.readthedocs.io/en/stable/user_install.html\">Jupyter\n",
       "  Widgets Documentation</a> for setup instructions.\n",
       "</p>\n",
       "<p>\n",
       "  If you're reading this message in another frontend (for example, a static\n",
       "  rendering on GitHub or <a href=\"https://nbviewer.jupyter.org/\">NBViewer</a>),\n",
       "  it may mean that your frontend doesn't currently support widgets.\n",
       "</p>\n"
      ],
      "text/plain": [
       "HBox(children=(IntProgress(value=0, description='Epoch', max=3), HTML(value='')))"
      ]
     },
     "metadata": {},
     "output_type": "display_data"
    },
    {
     "name": "stdout",
     "output_type": "stream",
     "text": [
      "epoch      trn_loss   val_loss   exp_rmse                                                                   \n",
      "    0      42.442696  36.251869  5.99494   \n",
      "    1      42.071695  33.586975  5.768747                                                                   \n",
      "    2      14.870518  14.018553  3.727132                                                                   \n",
      "\n"
     ]
    },
    {
     "data": {
      "text/plain": [
       "[14.018553, 3.72713244563215]"
      ]
     },
     "execution_count": 27,
     "metadata": {},
     "output_type": "execute_result"
    }
   ],
   "source": [
    "m.fit(lr, 3, metrics=[exp_rmse])"
   ]
  },
  {
   "cell_type": "code",
   "execution_count": 29,
   "metadata": {},
   "outputs": [
    {
     "data": {
      "application/vnd.jupyter.widget-view+json": {
       "model_id": "4d21e784479145e7aee2bb4701be7151",
       "version_major": 2,
       "version_minor": 0
      },
      "text/html": [
       "<p>Failed to display Jupyter Widget of type <code>HBox</code>.</p>\n",
       "<p>\n",
       "  If you're reading this message in the Jupyter Notebook or JupyterLab Notebook, it may mean\n",
       "  that the widgets JavaScript is still loading. If this message persists, it\n",
       "  likely means that the widgets JavaScript library is either not installed or\n",
       "  not enabled. See the <a href=\"https://ipywidgets.readthedocs.io/en/stable/user_install.html\">Jupyter\n",
       "  Widgets Documentation</a> for setup instructions.\n",
       "</p>\n",
       "<p>\n",
       "  If you're reading this message in another frontend (for example, a static\n",
       "  rendering on GitHub or <a href=\"https://nbviewer.jupyter.org/\">NBViewer</a>),\n",
       "  it may mean that your frontend doesn't currently support widgets.\n",
       "</p>\n"
      ],
      "text/plain": [
       "HBox(children=(IntProgress(value=0, description='Epoch', max=5), HTML(value='')))"
      ]
     },
     "metadata": {},
     "output_type": "display_data"
    },
    {
     "name": "stdout",
     "output_type": "stream",
     "text": [
      "epoch      trn_loss   val_loss   exp_rmse                                                                   \n",
      "    0      11.224967  12.753532  3.558746  \n",
      "    1      10.354546  12.907241  3.582119                                                                   \n",
      "    2      10.0125    12.830835  3.570184                                                                   \n",
      "    3      9.179038   13.168086  3.617723                                                                   \n",
      "    4      9.040635   13.289363  3.634851                                                                   \n",
      "\n"
     ]
    },
    {
     "data": {
      "text/plain": [
       "[13.289363, 3.6348512795163654]"
      ]
     },
     "execution_count": 29,
     "metadata": {},
     "output_type": "execute_result"
    }
   ],
   "source": [
    "m.fit(lr, 5, metrics=[exp_rmse], cycle_len=1)"
   ]
  },
  {
   "cell_type": "code",
   "execution_count": 30,
   "metadata": {},
   "outputs": [],
   "source": [
    "m.save('first_try')"
   ]
  },
  {
   "cell_type": "code",
   "execution_count": null,
   "metadata": {},
   "outputs": [],
   "source": []
  }
 ],
 "metadata": {
  "kernelspec": {
   "display_name": "Python 3",
   "language": "python",
   "name": "python3"
  },
  "language_info": {
   "codemirror_mode": {
    "name": "ipython",
    "version": 3
   },
   "file_extension": ".py",
   "mimetype": "text/x-python",
   "name": "python",
   "nbconvert_exporter": "python",
   "pygments_lexer": "ipython3",
   "version": "3.6.5"
  }
 },
 "nbformat": 4,
 "nbformat_minor": 2
}
